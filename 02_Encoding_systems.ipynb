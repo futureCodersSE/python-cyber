{
  "nbformat": 4,
  "nbformat_minor": 0,
  "metadata": {
    "colab": {
      "provenance": [],
      "authorship_tag": "ABX9TyMqzgSqjTGQxOCJzYre+cuX",
      "include_colab_link": true
    },
    "kernelspec": {
      "name": "python3",
      "display_name": "Python 3"
    },
    "language_info": {
      "name": "python"
    }
  },
  "cells": [
    {
      "cell_type": "markdown",
      "metadata": {
        "id": "view-in-github",
        "colab_type": "text"
      },
      "source": [
        "<a href=\"https://colab.research.google.com/github/futureCodersSE/python-cyber/blob/main/02_Encoding_systems.ipynb\" target=\"_parent\"><img src=\"https://colab.research.google.com/assets/colab-badge.svg\" alt=\"Open In Colab\"/></a>"
      ]
    },
    {
      "cell_type": "markdown",
      "source": [
        "# Encoding challenges inspired by https://cryptopals.com/\n",
        "---\n",
        "\n",
        "Have a go at the 5 challenges.  Each will need specific Python libraries and a basic understanding of the different encoding systems."
      ],
      "metadata": {
        "id": "95WVcP4unIP8"
      }
    },
    {
      "cell_type": "markdown",
      "source": [
        "## Challenge 1 - Hexadecimal, ASCII and base 64\n",
        "---\n",
        "\n",
        "**Topics:**\n",
        "* [Hexadecimal and numbering systems](https://learn.sparkfun.com/tutorials/hexadecimal/introduction)\n",
        "* [ASCII](https://www.ascii-code.com/articles/Beginners-Guide-to-ASCII)\n",
        "* [Base64](https://www.base64encoder.io/learn/)\n",
        "\n",
        "You can refer back to these topics as you work through the exercises below."
      ],
      "metadata": {
        "id": "vSv3HbB9ne8v"
      }
    },
    {
      "cell_type": "markdown",
      "source": [
        "### Exercise 1 - convert decimal number to a hexadecimal equivalent string\n",
        "---\n",
        "\n",
        "e.g.  \n",
        "Decimal 10 is Hexadecimal a   \n",
        "Decimal 45 is Hexadecimal 2d  \n",
        "Decimal 163 is Hexadecimal a3  \n",
        "Decimal 3482 is Hexadecimal d9a  \n",
        "\n",
        "Write a function that will return the hexadecimal number as a string (for printing)\n"
      ],
      "metadata": {
        "id": "F0fAtbFjw-7j"
      }
    },
    {
      "cell_type": "code",
      "execution_count": null,
      "metadata": {
        "id": "TSur-LW7nE2K"
      },
      "outputs": [],
      "source": [
        "\n"
      ]
    },
    {
      "cell_type": "markdown",
      "source": [
        "### Exercise 2 - convert a string into its hexadecimal ASCII values to form a new string\n",
        "---\n",
        "\n",
        "e.g. \"Hello World\" converts to \"48656c6c6f20576f726c64\""
      ],
      "metadata": {
        "id": "vJuPaMrqxOEQ"
      }
    },
    {
      "cell_type": "code",
      "source": [],
      "metadata": {
        "id": "Siy9Vg0rNSKT"
      },
      "execution_count": null,
      "outputs": []
    },
    {
      "cell_type": "markdown",
      "source": [
        "### Exercise 3 - convert a hexadecimal digit string to a four digit binary string\n",
        "---\n",
        "e.g.   \n",
        "Hexadecimal string \"4\" would convert to binary string \"0100\"   \n",
        "Hexadecimal string \"E\" would convert to binary string \"1110\"  \n",
        "Hexadecimal string \"0\" would convert to binary string \"0000\"   "
      ],
      "metadata": {
        "id": "JB1D1k1zdcii"
      }
    },
    {
      "cell_type": "code",
      "source": [],
      "metadata": {
        "id": "fFFHeVTH49so"
      },
      "execution_count": null,
      "outputs": []
    },
    {
      "cell_type": "markdown",
      "source": [
        "### Exercise 4 - encode an image (binary format) in Base64 format\n",
        "---\n",
        "Python provides a library `base64` for encoding binary data as text for secure transmission over networks and the internet.\n",
        "\n",
        "The process for preparing an image file for transmission is:\n",
        "\n",
        "*   import the base64 library\n",
        "*   uplodad and open the image file as bytes\n",
        "*   read and ecnode the file contents (binary) into a base64 string\n",
        "*   print the first 128 characters and the last 128 characters of the base64 string\n",
        "\n"
      ],
      "metadata": {
        "id": "zMcevZaeeJkF"
      }
    },
    {
      "cell_type": "code",
      "source": [],
      "metadata": {
        "id": "8ev5F_P-46_0"
      },
      "execution_count": null,
      "outputs": []
    },
    {
      "cell_type": "markdown",
      "source": [
        "### Exdercise 5 -- challenge -- encode a zip file into Base64 format\n",
        "---\n",
        "Create a small zip file, upload and open it, convert to base64 format.  \n",
        "Print the first 128 characters and the last 128 characters of the bas64 string.  \n",
        "Decode back to the original file.  \n",
        "Try to unzip to get the original contents.\n",
        "\n"
      ],
      "metadata": {
        "id": "iBBVTLY74_r_"
      }
    },
    {
      "cell_type": "code",
      "source": [],
      "metadata": {
        "id": "MJfUnAKz5VOx"
      },
      "execution_count": null,
      "outputs": []
    }
  ]
}