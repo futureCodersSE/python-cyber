{
  "nbformat": 4,
  "nbformat_minor": 0,
  "metadata": {
    "colab": {
      "provenance": [],
      "authorship_tag": "ABX9TyOjjy2uDJfmQ7fBt0axZ1Bq",
      "include_colab_link": true
    },
    "kernelspec": {
      "name": "python3",
      "display_name": "Python 3"
    },
    "language_info": {
      "name": "python"
    }
  },
  "cells": [
    {
      "cell_type": "markdown",
      "metadata": {
        "id": "view-in-github",
        "colab_type": "text"
      },
      "source": [
        "<a href=\"https://colab.research.google.com/github/futureCodersSE/python-cyber/blob/main/04_Validating_and_locating_IP_Addresses.ipynb\" target=\"_parent\"><img src=\"https://colab.research.google.com/assets/colab-badge.svg\" alt=\"Open In Colab\"/></a>"
      ]
    },
    {
      "cell_type": "markdown",
      "source": [
        "# IP address validation and location checking\n",
        "---\n",
        "\n",
        "Checking the validity of an IP address will help to ensure that packets of data are going to a real address (not necessarily a safe address but a real one).\n",
        "\n",
        "Checking the location of the IP address will help to identify where packets might be coming from or going to.\n",
        "\n",
        "There are a number of Python libraries and services available to help with this.  Abstract API is one and will allow you to get an API key and make a small number of requests on a free account."
      ],
      "metadata": {
        "id": "iRv22j9XjTMO"
      }
    },
    {
      "cell_type": "markdown",
      "source": [
        "### Read the tutorial and have a go\n",
        "---\n",
        "\n",
        "Use this tutorial about checking IP addresses and using AbstractAPI to geolocate them https://www.abstractapi.com/guides/validate-ip-address-python to help you to complete the following exercises."
      ],
      "metadata": {
        "id": "2gwb2s9BkQv9"
      }
    },
    {
      "cell_type": "markdown",
      "source": [
        "### Exercise 1 - Check IP address is valid\n",
        "---\n",
        "\n",
        "Follow the information and write a function that will validate a given IP address.  \n",
        "\n",
        "Test 1:  Use the localhost address 127.0.0.1   \n",
        "Test 2:  Use 127.1000.0.1   \n",
        "Test 3: Use the IPv6 address in the tutorial \"2001:0db8:75a2:0000:0000:8a2e:0340:5625\"   \n",
        "Test 4: Use \"2001:0db8:75a2:00100:0000:8a2e:0340:5625\"\n",
        "Test 5:  Use the public facing IPv4 address of your device/network (you can get this https://whatismyipaddress.com/ )\n",
        "\n",
        "Your function WILL:  \n",
        "*  take the IP address string as a parameter\n",
        "*  deal with exceptions to prevent an error for a non-valid address\n",
        "*  your function will return True if the ip address is valid and False if there was an exception\n",
        "\n"
      ],
      "metadata": {
        "id": "MAIuLQmvXmoR"
      }
    },
    {
      "cell_type": "code",
      "source": [],
      "metadata": {
        "id": "O2RsErjfbbpE"
      },
      "execution_count": null,
      "outputs": []
    },
    {
      "cell_type": "markdown",
      "source": [
        "### Exercise 2 - Check an IP address format using regular expressions\n",
        "---\n",
        "\n",
        "Regular expressions are used to check the format of a piece of data where there is a known format, such as an email address, a domain name, an IP address.\n",
        "\n",
        "Follow the tutorial to learn how to use regular expressions to check an IPv4 or an IPv6 address for its format.\n",
        "\n",
        "\n",
        "\n",
        "\n",
        "\n",
        "*   Write a function to check an IPv4 address and return True if valid or False if not.\n",
        "*   Write a function to check an IPv6 address and return True if valid or False is not.\n",
        "*  Combine the two functions into one that will be given an IP address and a standard (e.g. '127.0.0.1', 'IPv6') or (e.g.   '127.0.0.1', 6)\n",
        "\n",
        "\n",
        "\n"
      ],
      "metadata": {
        "id": "hQx--B5rzDql"
      }
    },
    {
      "cell_type": "code",
      "source": [],
      "metadata": {
        "id": "UIBZc7pRO2oy"
      },
      "execution_count": null,
      "outputs": []
    },
    {
      "cell_type": "markdown",
      "source": [
        "### Exercise 3 - Get and store an API key for IP geolocation\n",
        "---\n",
        "\n",
        "If you are happy to do so, **sign up for an API key from Abstract** https://www.abstractapi.com/.  This will allow you to request  a check on an IP address and to get the location of the network with that address.  \n",
        "\n",
        "Click on **Start for Free** to set up a free account.  \n",
        "\n",
        "Once you have created an account with Abstract you will have an **API key**, which you will be able to access as long as you are logged into the Abstract site.   \n",
        "\n",
        "\n",
        "Use the notebook's operating system and the `python-dotenv` library to set an environment variable called `API_KEY` and to store the key in that environment variable.  This will ensure that you do not upload the worksheet to your Github repository with the key on display.\n",
        "\n",
        "Refer to the [Caesar Cipher](https://github.com/futureCodersSE/python-cyber/blob/main/01_Cryptography_Caesar_cipher.ipynb) worksheet section **Keeping Secret Keys secret** for help with this."
      ],
      "metadata": {
        "id": "IAFnJZeSd647"
      }
    },
    {
      "cell_type": "code",
      "source": [],
      "metadata": {
        "id": "y1bPMLSDen1E"
      },
      "execution_count": null,
      "outputs": []
    },
    {
      "cell_type": "markdown",
      "source": [
        "### Exercise 4 - geolocate a network from its IP address\n",
        "---\n",
        "\n",
        "Follow the Abstract tutorial again to write a function that will geo-locate a network from its IP address.\n",
        "\n",
        "You will need to import the *requests* library and you will find it useful to import the *json* library and use *json.loads(response.content)* to turn the response into a dictionary object."
      ],
      "metadata": {
        "id": "Zj01LqvQtCZ6"
      }
    },
    {
      "cell_type": "code",
      "source": [],
      "metadata": {
        "id": "ExHs8ET5fKmy"
      },
      "execution_count": null,
      "outputs": []
    }
  ]
}