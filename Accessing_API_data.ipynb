{
  "nbformat": 4,
  "nbformat_minor": 0,
  "metadata": {
    "colab": {
      "provenance": [],
      "authorship_tag": "ABX9TyNEbNBLKgm1MvqODpZTu+Hb",
      "include_colab_link": true
    },
    "kernelspec": {
      "name": "python3",
      "display_name": "Python 3"
    },
    "language_info": {
      "name": "python"
    }
  },
  "cells": [
    {
      "cell_type": "markdown",
      "metadata": {
        "id": "view-in-github",
        "colab_type": "text"
      },
      "source": [
        "<a href=\"https://colab.research.google.com/github/futureCodersSE/python-cyber/blob/main/Accessing_API_data.ipynb\" target=\"_parent\"><img src=\"https://colab.research.google.com/assets/colab-badge.svg\" alt=\"Open In Colab\"/></a>"
      ]
    },
    {
      "cell_type": "markdown",
      "source": [
        "# Accessing API data with Python\n",
        "---\n",
        "\n",
        "Now that you have accessed an API with Postman, which makes the process a little easier.  Have a go at calling the API using Python, again a reasonably easy process.\n"
      ],
      "metadata": {
        "id": "jUn5To-yFXXn"
      }
    },
    {
      "cell_type": "markdown",
      "source": [
        "### First store the API key in an environment variable for security\n",
        "---\n",
        "\n",
        "Python is an interpreted language and the code exists in its text form while it is running. It can be relatively easily stopped and viewed during execution. This means that setting the key in the code is not really secure.\n",
        "\n",
        "Most development environments provide the facility to store '**environment variables**'. These are kept separate from the code and so can be kept private.\n",
        "\n",
        "**Setting an environment variable in a colab notebook**\n",
        "The main thing is to not store the key in the notebook (as these can be shared). You can avoid this by making sure that all who will run the code in the notebook know the key and can copy it in just for when they are working in the notebook. The notebook will delete all data on closing the session and so the notebook can be shared without sharing the key.\n",
        "\n",
        "Here is a way to store data in the notebook environment when it is opened so that it is then available just for that session.\n",
        "\n",
        "First: install a library into the notebook to manage the environment:\n",
        "Then:  import that library, along with an operating system library and a function that can manage the output in a colab.\n",
        "\n",
        "Then:  get the key from the user (who could paste it in) and store that key in the notebook's operating system environment (calling it 'API_KEY')\n",
        "\n",
        "Then:  clear the output so that there is no visibility of the key.  It will still be there to use until the notebook is closed, and it won't be included in any copy of the notebook shared on Github."
      ],
      "metadata": {
        "id": "npqKxDTAsAAZ"
      }
    },
    {
      "cell_type": "code",
      "source": [
        "!pip install python-dotenv\n",
        "import dotenv\n",
        "import os\n",
        "from google.colab import output\n",
        "\n",
        "key = input(\"Enter the API key: \")\n",
        "os.environ['API_KEY'] = key\n",
        "output.clear()"
      ],
      "metadata": {
        "id": "ZfkUkTI-xhDI"
      },
      "execution_count": 1,
      "outputs": []
    },
    {
      "cell_type": "markdown",
      "source": [
        "### Run the code in the cell ABOVE, before running the code below\n",
        "\n",
        "### The requests library\n",
        "Python has a requests library which has the instructions to make the request.\n",
        "\n",
        "*  Import the requests library  \n",
        "*  Create a request headers (containing the API key WHICH MUST BE ENTERED EACH TIME FOR SECURITY)   \n",
        "*  Clear the display so that the security key is immediately hidden\n",
        "*  Create the payload (same as in postman - *the payload is the data needed to clarify what you are requesting*)\n",
        "Send the request (with url, the request header and payload as data (the body))    \n",
        "*  Print the response\n",
        "\n",
        "**REMEMBER** to add your name in the `admin_name` field to allow the database to be named with your name.  This allows you to have a database file that only you are editing, so that the data remains as expected during the testing process."
      ],
      "metadata": {
        "id": "vLOsze3rzNsO"
      }
    },
    {
      "cell_type": "code",
      "execution_count": null,
      "metadata": {
        "id": "L4DvY-VfFTfR"
      },
      "outputs": [],
      "source": [
        "import requests\n",
        "import json\n",
        "\n",
        "def run_test_setup():\n",
        "\n",
        "  url = \"https://32614btzed.execute-api.eu-west-2.amazonaws.com/testing/savings-app\"\n",
        "\n",
        "  headers = {\n",
        "      \"Content-Type\":\"application/json\",\n",
        "      \"x-api-key\": os.environ.get('API_KEY')\n",
        "  }\n",
        "\n",
        "  payload = {\n",
        "      \"instruction\":\"setup_for_testing\",\n",
        "      \"data\":{},\n",
        "      \"admin_name\":\"your name here\"\n",
        "  }\n",
        "\n",
        "  response = requests.post(url, headers=headers, data=json.dumps(payload))\n",
        "  print(response.text)\n",
        "\n",
        "#########################################################################################################\n",
        "# run_test_setup to make a request to setup the database for testing using the setup_for_testing function\n",
        "run_test_setup()"
      ]
    },
    {
      "cell_type": "markdown",
      "source": [
        "### Create a new request for the get_columns function\n",
        "---\n",
        "Again, ensure that you ask for input of the API key.  This is only so that if you upload this worksheet to Github, you won't expose the key as long as you haven't saved it in the worksheet.\n",
        "\n",
        "Add the request code in the code cell below."
      ],
      "metadata": {
        "id": "CvkXSyBrKkA-"
      }
    },
    {
      "cell_type": "code",
      "source": [],
      "metadata": {
        "id": "kDobki_6K84Q"
      },
      "execution_count": null,
      "outputs": []
    },
    {
      "cell_type": "markdown",
      "source": [
        "### Now add the other two requests (get_data, add_funds)"
      ],
      "metadata": {
        "id": "o_P9sRM1Kki9"
      }
    },
    {
      "cell_type": "code",
      "source": [],
      "metadata": {
        "id": "YMpWG4G0LQbF"
      },
      "execution_count": null,
      "outputs": []
    },
    {
      "cell_type": "code",
      "source": [],
      "metadata": {
        "id": "VK8Xr3i5LQvi"
      },
      "execution_count": null,
      "outputs": []
    },
    {
      "cell_type": "markdown",
      "source": [
        "### And finally - add your own request to remove funds of 5 from user_id 2"
      ],
      "metadata": {
        "id": "CRtP8WiVLRSQ"
      }
    },
    {
      "cell_type": "code",
      "source": [],
      "metadata": {
        "id": "vmYpPs0FL1mp"
      },
      "execution_count": null,
      "outputs": []
    },
    {
      "cell_type": "markdown",
      "source": [
        "### Upload the worksheet to Github but only if the API key is not showing anywhere in the worksheet."
      ],
      "metadata": {
        "id": "D0xtviPgL2F8"
      }
    }
  ]
}