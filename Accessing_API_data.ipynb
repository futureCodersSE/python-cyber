{
  "nbformat": 4,
  "nbformat_minor": 0,
  "metadata": {
    "colab": {
      "provenance": [],
      "authorship_tag": "ABX9TyMqO/4C/bSLFNlu2Yc2YfCb",
      "include_colab_link": true
    },
    "kernelspec": {
      "name": "python3",
      "display_name": "Python 3"
    },
    "language_info": {
      "name": "python"
    }
  },
  "cells": [
    {
      "cell_type": "markdown",
      "metadata": {
        "id": "view-in-github",
        "colab_type": "text"
      },
      "source": [
        "<a href=\"https://colab.research.google.com/github/futureCodersSE/python-cyber/blob/main/Accessing_API_data.ipynb\" target=\"_parent\"><img src=\"https://colab.research.google.com/assets/colab-badge.svg\" alt=\"Open In Colab\"/></a>"
      ]
    },
    {
      "cell_type": "markdown",
      "source": [
        "# Accessing API data with Python\n",
        "---\n",
        "\n",
        "Now that you have accessed an API with Postman, which makes the process a little easier.  Have a go at calling the API using Python, again a reasonably easy process.\n",
        "\n",
        "### The requests library\n",
        "Python has a requests library which has the instructions to make the request.\n",
        "\n",
        "Import the requests library  \n",
        "Create the payload (same as in postman)\n",
        "Create a request header (containing the API key)   \n",
        "Create a request body  \n",
        "Send the request  \n",
        "Print the response\n"
      ],
      "metadata": {
        "id": "jUn5To-yFXXn"
      }
    },
    {
      "cell_type": "code",
      "execution_count": 14,
      "metadata": {
        "id": "L4DvY-VfFTfR",
        "colab": {
          "base_uri": "https://localhost:8080/"
        },
        "outputId": "74d83172-9539-4d2f-c3fe-f4ede0586f26"
      },
      "outputs": [
        {
          "output_type": "stream",
          "name": "stdout",
          "text": [
            "Enter the API key so that it isn't stored in the notebook: xObtPHZWr395gIBnZjVTC7BsOshyGfHq3Yn2yl5k\n",
            "[[1, 44.0], [2, 5.0], [3, 42.0], [4, 32.0], [5, 25.0], [6, 5.0], [7, 26.0], [8, 39.0], [9, 45.0], [10, 29.0]]\n"
          ]
        }
      ],
      "source": [
        "import requests\n",
        "import json\n",
        "\n",
        "url = \"https://32614btzed.execute-api.eu-west-2.amazonaws.com/testing/savings-app\"\n",
        "\n",
        "headers = {\n",
        "    \"Content-Type\":\"application/json\",\n",
        "    \"x-api-key\": input(\"Enter the API key so that it isn't stored in the notebook: \")\n",
        "}\n",
        "\n",
        "body = {\n",
        "    \"instruction\":\"get_data\",\n",
        "    \"data\":{},\n",
        "    \"admin_name\":\"karen\"\n",
        "}\n",
        "\n",
        "response = requests.post(url, headers=headers, data=json.dumps(body))\n",
        "print(response.text)"
      ]
    },
    {
      "cell_type": "markdown",
      "source": [
        "### Create a new request for the get_columns function\n",
        "---\n",
        "Again, ensure that you ask for input of the API key.  This is only so that if you upload this worksheet to Github, you won't expose the key as long as you haven't saved it in the worksheet.\n",
        "\n",
        "Add the request code in the code cell below."
      ],
      "metadata": {
        "id": "CvkXSyBrKkA-"
      }
    },
    {
      "cell_type": "code",
      "source": [],
      "metadata": {
        "id": "kDobki_6K84Q"
      },
      "execution_count": null,
      "outputs": []
    },
    {
      "cell_type": "markdown",
      "source": [
        "### Now add the other two requests (get_data, add_funds)"
      ],
      "metadata": {
        "id": "o_P9sRM1Kki9"
      }
    },
    {
      "cell_type": "code",
      "source": [],
      "metadata": {
        "id": "YMpWG4G0LQbF"
      },
      "execution_count": null,
      "outputs": []
    },
    {
      "cell_type": "code",
      "source": [],
      "metadata": {
        "id": "VK8Xr3i5LQvi"
      },
      "execution_count": null,
      "outputs": []
    },
    {
      "cell_type": "markdown",
      "source": [
        "### And finally - add your own request to remove funds of 5 from user_id 2"
      ],
      "metadata": {
        "id": "CRtP8WiVLRSQ"
      }
    },
    {
      "cell_type": "code",
      "source": [],
      "metadata": {
        "id": "vmYpPs0FL1mp"
      },
      "execution_count": null,
      "outputs": []
    },
    {
      "cell_type": "markdown",
      "source": [
        "### Upload the worksheet to Github but only if the API key is not anywhere in the worksheet."
      ],
      "metadata": {
        "id": "D0xtviPgL2F8"
      }
    }
  ]
}