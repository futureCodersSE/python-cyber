{
  "cells": [
    {
      "cell_type": "markdown",
      "metadata": {
        "id": "view-in-github",
        "colab_type": "text"
      },
      "source": [
        "<a href=\"https://colab.research.google.com/github/futureCodersSE/python-cyber/blob/main/03_File_management.ipynb\" target=\"_parent\"><img src=\"https://colab.research.google.com/assets/colab-badge.svg\" alt=\"Open In Colab\"/></a>"
      ]
    },
    {
      "cell_type": "markdown",
      "metadata": {
        "id": "RYkEMTM8Rirb"
      },
      "source": [
        "# Keep it clean, keep it safe\n",
        "---\n",
        "\n",
        "Effective digital file management might include:\n",
        "*  Avoid saving unnecessary documents.\n",
        "*  Follow a consistent method for naming your files and folders.\n",
        "*  Store related documents together, whatever their type.\n",
        "*  Separate ongoing work from completed work.\n",
        "*  Avoid overfilling folders.\n",
        "*  Organize documents by date.\n",
        "*  Keep back ups"
      ]
    },
    {
      "cell_type": "markdown",
      "metadata": {
        "id": "m5Y0v-lVXdy-"
      },
      "source": [
        "### Upload some files to work with\n",
        "---\n",
        "\n",
        "This notebook has its own filing system, which you can work with.  Any files used during a session are deleted when the notebook's runtime session stops (e.g. after a period of inactivity or when you close it).\n",
        "\n",
        "A set of files has been prepared for this exercise.  The zipped folder containing these can be downloaded from [here](https://drive.google.com/file/d/16YXn5XdbIA4rSoQhZQ4c20__z0C_lD3f/view?usp=sharing)  \n",
        "\n",
        "Watch this [video](https://vimeo.com/891330968/b7c8408947) to see how to upload the prepared set of files to the notebook."
      ]
    },
    {
      "cell_type": "markdown",
      "metadata": {
        "id": "arSH11Mqbpga"
      },
      "source": [
        "### Find help for file handling with python\n",
        "---\n",
        "\n",
        "You will need to be able to do the following:\n",
        "*  list the contents of a directory\n",
        "*  walk through directory contents (subdirectories)\n",
        "*  rename a file\n",
        "*  create a folder\n",
        "*  delete a file\n",
        "*  move a file\n",
        "*  change access settings for a file or folder\n",
        "\n",
        "This site has some guidance:  https://pynative.com/python/file-handling/\n",
        "\n",
        "The PATH to access files in the notebook file system is:\n",
        "\n",
        "/content/folder_name/file_name"
      ]
    },
    {
      "cell_type": "markdown",
      "metadata": {
        "id": "uWqUBJI8eNgD"
      },
      "source": [
        "### Exercise 1\n",
        "---\n",
        "\n",
        "Print a list of the files in the Acme File System directory"
      ]
    },
    {
      "cell_type": "code",
      "execution_count": null,
      "metadata": {
        "id": "A5g5tz1sRbiP"
      },
      "outputs": [],
      "source": []
    },
    {
      "cell_type": "markdown",
      "metadata": {
        "id": "sUhPT6OVe59J"
      },
      "source": [
        "### Exercise 2\n",
        "---\n",
        "Create TWO new folders:  \n",
        "*  Minutes\n",
        "*  Reports\n",
        "\n",
        "Move all files with names containing 'minutes' to the Minutes folder.  \n",
        "\n",
        "Move all files with names containing 'report' to the Reports folder."
      ]
    },
    {
      "cell_type": "code",
      "execution_count": null,
      "metadata": {
        "id": "7ybpu_aOfZfY"
      },
      "outputs": [],
      "source": []
    },
    {
      "cell_type": "markdown",
      "metadata": {
        "id": "661xS_VafZrS"
      },
      "source": [
        "### Exercise 3\n",
        "---\n",
        "In the Reports folder, create TWO new folders:\n",
        "*  2022 reports\n",
        "*  2023 reports\n",
        "\n",
        "Move all files with 2022 in the name to the 2022 folder.  \n",
        "Move all files with 2023 in the name to the 2023 folder."
      ]
    },
    {
      "cell_type": "code",
      "execution_count": null,
      "metadata": {
        "id": "bbPeHrUlftRw"
      },
      "outputs": [],
      "source": []
    },
    {
      "cell_type": "markdown",
      "metadata": {
        "id": "6qkW3JsZftcA"
      },
      "source": [
        "### Exercise 4\n",
        "---\n",
        "List the directory structure for Acme File System using os.walk()\n",
        "\n",
        "Help here: https://www.geeksforgeeks.org/os-walk-python/"
      ]
    },
    {
      "cell_type": "code",
      "execution_count": null,
      "metadata": {
        "id": "JhsZwSpIiH2b"
      },
      "outputs": [],
      "source": []
    },
    {
      "cell_type": "markdown",
      "metadata": {
        "id": "w3Fk4y9miI_R"
      },
      "source": [
        "### Exercise 5\n",
        "---\n",
        "There are some accidental copies of files in the directory.  \n",
        "\n",
        "Walk through the directory, find all files with 'copy' in the name and delete them.\n",
        "\n",
        "List all the files and folders in the directory and its sub-directories."
      ]
    },
    {
      "cell_type": "code",
      "execution_count": null,
      "metadata": {
        "id": "2MccPkztimSS"
      },
      "outputs": [],
      "source": []
    },
    {
      "cell_type": "markdown",
      "metadata": {
        "id": "mjM-LkFZimoL"
      },
      "source": [
        "### Exercise 6\n",
        "---\n",
        "The files in the minutes and the reports directories are labelled by month.  Consequently, they are not stored in date order.  \n",
        "\n",
        "Rename all files with a month in the name to use the month number rather than the name (e.g. replace 'August' with '08', 'December' with '12, etc)\n",
        "\n",
        "List all the files and folders in the directory and its sub-directories."
      ]
    },
    {
      "cell_type": "code",
      "execution_count": null,
      "metadata": {
        "id": "J-t0OgZljDPp"
      },
      "outputs": [],
      "source": []
    },
    {
      "cell_type": "markdown",
      "metadata": {
        "id": "FnEIwC1mjJlg"
      },
      "source": [
        "### Exercise 7\n",
        "---\n",
        "Some operating systems do not process files with spaces in their names.  \n",
        "\n",
        "Rename all files to replace spaces with underscores ( _ )  \n",
        "\n",
        "List all the files and folders in the directory and its sub-directories."
      ]
    },
    {
      "cell_type": "code",
      "execution_count": null,
      "metadata": {
        "id": "8z3HLv0JjdZt"
      },
      "outputs": [],
      "source": []
    },
    {
      "cell_type": "markdown",
      "metadata": {
        "id": "_AEY2vKnjduc"
      },
      "source": [
        "### Exercise 8\n",
        "---\n",
        "Make a back up copy of the whole folder"
      ]
    },
    {
      "cell_type": "code",
      "execution_count": null,
      "metadata": {
        "id": "9e_k072QkfPi"
      },
      "outputs": [],
      "source": []
    },
    {
      "cell_type": "markdown",
      "metadata": {
        "id": "t1jql1Hln75D"
      },
      "source": [
        "### Exercise 9\n",
        "---\n",
        "Zip the back up folder (use the shutil or zipfile library - help here: https://www.guru99.com/python-zip-file.html.\n",
        "\n",
        "Download the zipped file.  You can use:   \n",
        "```\n",
        "from google.colab import files\n",
        "files.download('example.txt')\n",
        "```\n",
        "\n"
      ]
    },
    {
      "cell_type": "code",
      "execution_count": null,
      "metadata": {
        "id": "07TF6NbsoVKh"
      },
      "outputs": [],
      "source": []
    },
    {
      "cell_type": "markdown",
      "source": [
        "### Final challenge\n",
        "---\n",
        "\n",
        "Create a new Colab notebook. Write a clean up program that will:\n",
        "\n",
        "Allow the user to specify the name of a zipped folder to upload  \n",
        "Allow the zipped folder to be uploaded  \n",
        "Unzip the folder    \n",
        "Clean up the folder in a similar way to all the things done in the exercises  \n",
        "Back up  \n",
        "Zip and download  \n",
        "\n"
      ],
      "metadata": {
        "id": "qUP8HvMLq-Il"
      }
    }
  ],
  "metadata": {
    "colab": {
      "provenance": [],
      "authorship_tag": "ABX9TyOYsLqYj4A6PlhrK7VvDJ6n",
      "include_colab_link": true
    },
    "kernelspec": {
      "display_name": "Python 3",
      "name": "python3"
    },
    "language_info": {
      "name": "python"
    }
  },
  "nbformat": 4,
  "nbformat_minor": 0
}