{
  "nbformat": 4,
  "nbformat_minor": 0,
  "metadata": {
    "colab": {
      "provenance": [],
      "authorship_tag": "ABX9TyOoIKuri1omsrW3vClC3wN3",
      "include_colab_link": true
    },
    "kernelspec": {
      "name": "python3",
      "display_name": "Python 3"
    },
    "language_info": {
      "name": "python"
    }
  },
  "cells": [
    {
      "cell_type": "markdown",
      "metadata": {
        "id": "view-in-github",
        "colab_type": "text"
      },
      "source": [
        "<a href=\"https://colab.research.google.com/github/futureCodersSE/python-cyber/blob/main/Cloud/Modifying_the_serverless_function.ipynb\" target=\"_parent\"><img src=\"https://colab.research.google.com/assets/colab-badge.svg\" alt=\"Open In Colab\"/></a>"
      ]
    },
    {
      "cell_type": "markdown",
      "source": [
        "# The following code was used for the original serverless function\n",
        "---\n",
        "\n",
        "You are going to add functionality to this and below are some tips to help with this."
      ],
      "metadata": {
        "id": "AWOjzjIyKOJy"
      }
    },
    {
      "cell_type": "markdown",
      "source": [
        "## Good practice in updating lambda functions\n",
        "---\n",
        "\n",
        "1.  **Test locally first**.  If it crashes locally then it will generate 'Internal server error' responses on Lambda and you want to avoid this.  Again, the lambda_handler function should check for as many data errors as possible to minimise the risk of crashing.  A crash could leave a database or other service exposed.  The app should always fail gracefully.  Some of this can be done with try: except: clauses which will be covered later.  \n",
        "\n",
        "2.  The lambda_handler should sit in a file on its own and should call functions from other files.  This reduces visibility of as many functions as possible in case of crashes or unauthorised access to running code.\n",
        "\n",
        "3.  All other functions should be imported into the lambda_handler ONLY if that function is called within the handler."
      ],
      "metadata": {
        "id": "9CWrJfD5Xp2y"
      }
    },
    {
      "cell_type": "markdown",
      "source": [
        "### The code should look similar to this\n",
        "\n",
        "**Note**:  these can't be run together in a Colab notebook because they are specifically written to work in different files.\n",
        "\n",
        "**functions.py** ( a file containing the functions that are being requested)\n",
        "\n",
        "```\n",
        "## functions.py\n",
        "\n",
        "# a set of mathematical functions\n",
        "def add_numbers(num1, num2):\n",
        "  sum = num1 + num2\n",
        "  return sum\n",
        "\n",
        "def multiply_numbers(num1, num2):\n",
        "  product = num1 + num2\n",
        "  return product\n",
        "```\n",
        "\n",
        "**lambda_function.py** (a file containing only the *lambda_handler* function)\n",
        "\n",
        "```\n",
        "# lambda_function.py\n",
        "\n",
        "# handle the request, passing the data to other functions\n",
        "\n",
        "import json\n",
        "from functions import add_numbers\n",
        "\n",
        "def lambda_handler(event, context):\n",
        "  # event will be in the format {\"body\":{\"data\":{{\"num1\":3, \"num2\":5}}} where 3 and 5 could be any numbers.\n",
        "  # FOR SECURITY ALWAYS first check that the \"body\" key is there to prevent crashes.  If body is a JSON string (rather than object) convert to an object\n",
        "  if \"body\" in event.keys():\n",
        "    request = event[\"body\"]\n",
        "    if type(request) is not dict:\n",
        "      request = json.loads(request)\n",
        "    # check that there was some data in the body, get the values and run the function to get the result\n",
        "    if request is not None and \"data\" in request.keys():\n",
        "      # get the data from the data object\n",
        "      data = request[\"data\"]\n",
        "      ### CHANGE HERE ADD A NEW KEY (operation) that will be \"add\" or \"multiply\" ###\n",
        "\n",
        "      num1 = data[\"num1\"]\n",
        "      num2 = data[\"num2\"]\n",
        "\n",
        "      ### TO HERE - GETTING THE DATA TO KNOW WHAT OPERATION AND WHAT NUMBERS ###\n",
        "      # now the data has been collected, it can run the right function (operation) setting return_data to the result, and set the statuscode to 200 (success)\n",
        "\n",
        "      ### CHANGE HERE TO SELECT add_numbers if operation was \"add\" OR multiply_numbers if \"multiply ###\n",
        "      return_data = add_numbers(num1, num2)\n",
        "\n",
        "      ### TO HERE - PERFORMING THE REQUESTED OPERATION TO SET return_data CORRECTLY ###\n",
        "      \n",
        "      statuscode = 200\n",
        "    else:\n",
        "      return_data = \"Unable to get data\"\n",
        "      statuscode = 404\n",
        "    # now it can return the result in a JSON object with some security settings in the headers\n",
        "    return {\n",
        "        'statusCode': statuscode,\n",
        "        'headers':{\n",
        "            'Content-Type' : 'application/json',\n",
        "            'Access-Control-Allow-Headers' : 'Content-Type,X-Api-Key',\n",
        "            'Access-Control-Allow-Methods' : 'POST',\n",
        "            'Access-Control-Allow-Origin':'*'\n",
        "        },\n",
        "        'body': json.dumps(return_data)\n",
        "    }\n",
        "  ```\n",
        "\n",
        "  \n",
        " **Initialisation file**:  `__init__.py`  it is a good idea to create a third file in the same folder called `__init__.py`.  This helps with the tracking of files as your folders get bigger and you have sub-folders.  THE FILE SHOULD BE EMPTY (although at advanced stages you may learn to add to it)\n",
        "\n",
        "  "
      ],
      "metadata": {
        "id": "ESP5gk3UYkFn"
      }
    },
    {
      "cell_type": "code",
      "source": [
        "# NO CODE IN HERE"
      ],
      "metadata": {
        "id": "kGRicQsyixHP"
      },
      "execution_count": null,
      "outputs": []
    },
    {
      "cell_type": "markdown",
      "source": [],
      "metadata": {
        "id": "boqVL0gvIABZ"
      }
    },
    {
      "cell_type": "markdown",
      "source": [
        "### Get code ready to re-upload to Lambda\n",
        "---\n",
        "\n",
        "SO a folder (called **lambda_files** here) containing all the code for this lambda function should look like this:\n",
        "\n",
        "  ```\n",
        "  lambda_files  \n",
        "  --> __init__.py  \n",
        "  --> functions.py  \n",
        "  --> lambda_function.py  \n",
        "  ```\n",
        "  "
      ],
      "metadata": {
        "id": "10QVlNsjiyzN"
      }
    },
    {
      "cell_type": "markdown",
      "source": [
        "## BEFORE UPLOADING THE NEW CODE - TEST, TEST, TEST\n",
        "---\n",
        "\n",
        "Try the following tests:\n",
        "\n",
        "```\n",
        "request = {\n",
        "    \"body\": {\n",
        "        \"data\": {\n",
        "            \"operation\":\"multiply\",\n",
        "            \"num1\":5,\n",
        "            \"num2\":3\n",
        "        }\n",
        "    }\n",
        "}\n",
        "```\n",
        "```\n",
        "request = {\n",
        "    \"body\": {\n",
        "        \"data\": {\n",
        "            \"num1\":5,\n",
        "            \"num2\":3\n",
        "        }\n",
        "    }\n",
        "}\n",
        "```\n",
        "```\n",
        "request = {\n",
        "    \"body\": {\n",
        "        \"data\": {\n",
        "            \"operation\":\"multiply\",\n",
        "            \"num1\":5\n",
        "        }\n",
        "    }\n",
        "}\n",
        "```\n",
        "\n",
        "```\n",
        "request = {\n",
        "    \"body\": {}\n",
        "}\n",
        "```\n",
        "```\n",
        "request = {\n",
        "    \"body\": {\n",
        "        \"data\": {}\n",
        "    }\n",
        "}\n",
        "```\n"
      ],
      "metadata": {
        "id": "Ws8ggHLkKlLl"
      }
    },
    {
      "cell_type": "code",
      "source": [
        "request = {\n",
        "    \"body\": {\n",
        "        \"data\": {\n",
        "            \"operation\":\"multiply\",\n",
        "            \"num1\":5,\n",
        "            \"num2\":3\n",
        "        }\n",
        "    }\n",
        "}"
      ],
      "metadata": {
        "id": "L98WKpKNJMPv"
      },
      "execution_count": null,
      "outputs": []
    },
    {
      "cell_type": "markdown",
      "source": [
        "## Update the code in AWS Lambda.\n",
        "---\n",
        "\n",
        "Open your Lambda function in AWS so that you can see the existing code.  Then upload the new code (zipped as before) and test it in Lambda.\n",
        "\n",
        "If it works, then it would be a good idea to create a collection of tests in Postman and run the whole collection to test, with an aim to find as many runtime errors as possible.\n",
        "\n",
        "**PLEASE BE AWARE that AWS has a wide range of services, not all of them are free from cost.  If you experiment outside the services we are asking you to use, you may be charged.**"
      ],
      "metadata": {
        "id": "ZAfw4fJHaHnG"
      }
    }
  ]
}