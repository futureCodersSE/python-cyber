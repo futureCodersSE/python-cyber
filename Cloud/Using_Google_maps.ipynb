{
  "nbformat": 4,
  "nbformat_minor": 0,
  "metadata": {
    "colab": {
      "provenance": [],
      "authorship_tag": "ABX9TyNDmQDfcL+N5SHpNTEXT3EL",
      "include_colab_link": true
    },
    "kernelspec": {
      "name": "python3",
      "display_name": "Python 3"
    },
    "language_info": {
      "name": "python"
    }
  },
  "cells": [
    {
      "cell_type": "markdown",
      "metadata": {
        "id": "view-in-github",
        "colab_type": "text"
      },
      "source": [
        "<a href=\"https://colab.research.google.com/github/futureCodersSE/python-cyber/blob/main/Cloud/Using_Google_maps.ipynb\" target=\"_parent\"><img src=\"https://colab.research.google.com/assets/colab-badge.svg\" alt=\"Open In Colab\"/></a>"
      ]
    },
    {
      "cell_type": "markdown",
      "source": [
        "# Send request to Google Maps API\n",
        "---\n",
        "\n",
        "Sign up to Google Maps API to get an API key\n",
        "\n",
        "Restrict its use to HTTP Referrers -> google.com  \n",
        "\n",
        "Store the API key in an environment variable"
      ],
      "metadata": {
        "id": "YyVc5tW7le57"
      }
    },
    {
      "cell_type": "code",
      "execution_count": 1,
      "metadata": {
        "id": "E01XbQiXlbXZ"
      },
      "outputs": [],
      "source": [
        "import os\n",
        "from google.colab import output\n",
        "\n",
        "key = input(\"Enter the API key: \")\n",
        "os.environ['API_KEY'] = key\n",
        "output.clear()"
      ]
    },
    {
      "cell_type": "markdown",
      "source": [
        "### Import the googlemaps library and get a client for accessing the API functions.\n",
        "---\n",
        "You will need to create a client using the API key to create a session for communication with the API.  Once you have a client, it will run the functions for you."
      ],
      "metadata": {
        "id": "lKzN2b9u3ZYP"
      }
    },
    {
      "cell_type": "code",
      "source": [
        "!pip install googlemaps\n",
        "import googlemaps\n",
        "\n",
        "gmaps = googlemaps.Client(os.environ.get('API_KEY'))"
      ],
      "metadata": {
        "id": "r-VgZGNf4H5W"
      },
      "execution_count": null,
      "outputs": []
    },
    {
      "cell_type": "markdown",
      "source": [
        "### Get a list of schools within a radius of 4km and co-ordinates latitude 55.816555 and longitude -4.309890\n",
        "---\n",
        "\n",
        "Use the code below to work out the requirements for the **nearby** function."
      ],
      "metadata": {
        "id": "PhQvDM6DZ8bs"
      }
    },
    {
      "cell_type": "code",
      "source": [
        "try:\n",
        "  places_result  = gmaps.places_nearby(location=\"55.816555,-4.309890\", radius = 4000, type = \"school\")\n",
        "  for place in places_result['results']:\n",
        "    print(place['name'])\n",
        "except Exception as e:\n",
        "  print(\"Error: \" + str(e))"
      ],
      "metadata": {
        "id": "eCGl0184aUUX"
      },
      "execution_count": 9,
      "outputs": []
    },
    {
      "cell_type": "markdown",
      "source": [
        "### Find out more about the Nearby API\n",
        "\n",
        "**Reference**:  https://developers.google.com/maps/documentation/places/web-service/nearby-search?_gl=1*178u4zu*_ga*MTQ2OTYwNjQyMy4xNzA3NjkzNjk1*_ga_NRWSTWS78N*MTcwNzY5MzY4My4yLjEuMTcwNzY5Mzc0My4wLjAuMA.."
      ],
      "metadata": {
        "id": "x_ZKpIH2eJZc"
      }
    }
  ]
}