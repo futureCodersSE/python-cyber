{
  "nbformat": 4,
  "nbformat_minor": 0,
  "metadata": {
    "colab": {
      "provenance": [],
      "authorship_tag": "ABX9TyNgkL5TR4QCNvj0o08MIPT7",
      "include_colab_link": true
    },
    "kernelspec": {
      "name": "python3",
      "display_name": "Python 3"
    },
    "language_info": {
      "name": "python"
    }
  },
  "cells": [
    {
      "cell_type": "markdown",
      "metadata": {
        "id": "view-in-github",
        "colab_type": "text"
      },
      "source": [
        "<a href=\"https://colab.research.google.com/github/futureCodersSE/python-cyber/blob/main/Cloud/Creating_a_serverless_function_(hosted_on_AWS_lambda).ipynb\" target=\"_parent\"><img src=\"https://colab.research.google.com/assets/colab-badge.svg\" alt=\"Open In Colab\"/></a>"
      ]
    },
    {
      "cell_type": "markdown",
      "source": [
        "# Ths following code will be used to practice creating a serverless function\n",
        "---\n",
        "\n",
        "The function will run in the cloud, in an Amazon Web Services (AWS) account using the **lambda** service.\n",
        "\n",
        "A lambda function is a serverless function (ie it runs independently in the cloud).\n",
        "\n",
        "Before we upload the code to the cloud, it is important to understand what it does and the 'extra' code needed to ensure that is can run in the cloud."
      ],
      "metadata": {
        "id": "AWOjzjIyKOJy"
      }
    },
    {
      "cell_type": "markdown",
      "source": [
        "## Exercise 1 - create and run a simple function\n",
        "---\n",
        "\n",
        "The function add_numbers(num1, num2) is a simple Python function that, if given two numbers (num1 and num2) will add them together and return the sum.\n",
        "\n",
        "Here is the code.  Click on the cell to activate it.  NOTHING WILL HAPPEN because the function has not been 'triggered' by some code outside the function.  BUT it is ready to run once you have activated it."
      ],
      "metadata": {
        "id": "-kDOMf3HK3ES"
      }
    },
    {
      "cell_type": "code",
      "execution_count": null,
      "metadata": {
        "id": "nBYldsnDKCD4"
      },
      "outputs": [],
      "source": [
        "def add_numbers(num1, num2):\n",
        "  sum = num1 + num2\n",
        "  return sum"
      ]
    },
    {
      "cell_type": "markdown",
      "source": [
        "### Now **trigger** the function with a function call"
      ],
      "metadata": {
        "id": "Jddb8ecoMFpz"
      }
    },
    {
      "cell_type": "code",
      "source": [
        "result = add_numbers(3, 5)\n",
        "print(result)"
      ],
      "metadata": {
        "id": "zWZyHkGzMLqh"
      },
      "execution_count": null,
      "outputs": []
    },
    {
      "cell_type": "markdown",
      "source": [
        "Both parts are needed in order for the function to get its data, run and deliver the result.\n",
        "\n",
        "---\n"
      ],
      "metadata": {
        "id": "SdUSrndLMV-C"
      }
    },
    {
      "cell_type": "markdown",
      "source": [
        "## Exercise 2 - add a lambda handler which will run the function in the serverless system\n",
        "---\n",
        "Once the function is uploaded to the lambda service, it will not be possible just to type the code in order to run it.  We will have to make a request to run it in a different way and the function needs to be able to understand the request.\n",
        "\n",
        "The following code is a lambda handler function that will be able to run the add_numbers once it has been requested from outside.\n",
        "\n",
        "This code is the interface between the function and the outside world.  It should always be called lambda_handler when working with AWS services (other cloud services have different names for this)\n",
        "\n",
        "The lambda_handler function will receive a JSON object which, for this exercise will look like this:\n",
        "\n",
        "```\n",
        "{\n",
        "  \"body\":{\n",
        "    \"data\": {\n",
        "      \"num1\":3,\n",
        "      \"num2\":5\n",
        "    }\n",
        "  }\n",
        "}\n",
        "```\n",
        "With different data, the body will be different"
      ],
      "metadata": {
        "id": "r8P3Mv4SMtmJ"
      }
    },
    {
      "cell_type": "code",
      "source": [
        "import json\n",
        "\n",
        "def lambda_handler(event, context):\n",
        "  # event will be in the format {\"body\":{\"data\":{{\"num1\":3, \"num2\":5}}} where 3 and 5 could be any numbers.\n",
        "  # FOR SECURITY ALWAYS first check that the \"body\" key is there to prevent crashes\n",
        "  if \"body\" in event.keys():\n",
        "    request = event[\"body\"]\n",
        "    # check that there was some data in the body, get the values and run the function to get the result\n",
        "    if request is not None and \"data\" in request.keys():\n",
        "      # get the data from the data object\n",
        "      data = request[\"data\"]\n",
        "      num1 = data[\"num1\"]\n",
        "      num2 = data[\"num2\"]\n",
        "      # now the data has been collected, it can run the add_numbers(num1, num2) function setting return_data to the result, and set the statuscode to 200 (success)\n",
        "      return_data = add_numbers(num1, num2)\n",
        "      statuscode = 200\n",
        "    else:\n",
        "      return_data = \"Unable to get data\"\n",
        "      statuscode = 404\n",
        "    # now it can return the result in a JSON object with some security settings in the headers\n",
        "    return {\n",
        "        'statusCode': statuscode,\n",
        "        'headers':{\n",
        "            'Content-Type' : 'application/json',\n",
        "            'Access-Control-Allow-Headers' : 'Content-Type,X-Api-Key',\n",
        "            'Access-Control-Allow-Methods' : 'POST',\n",
        "            'Access-Control-Allow-Origin':'*'\n",
        "        },\n",
        "        'body': json.dumps(return_data)\n",
        "    }"
      ],
      "metadata": {
        "id": "WMOBhzThM5lf"
      },
      "execution_count": null,
      "outputs": []
    },
    {
      "cell_type": "markdown",
      "source": [
        "Again - **run the code above to activate it**\n",
        "\n",
        "THEN for testing purposes, run the code below to run the lambda_handler (which should then run the add_numbers function."
      ],
      "metadata": {
        "id": "czq39rsFSE0V"
      }
    },
    {
      "cell_type": "code",
      "source": [
        "# set up the data first\n",
        "request_event = {\n",
        "  \"body\":{\n",
        "    \"data\": {\n",
        "      \"num1\":3,\n",
        "      \"num2\":5\n",
        "    }\n",
        "  }\n",
        "}\n",
        "\n",
        "# run the lambda_handle with a context of None (this is needed if you want to run the function directly but we are going to do this with an API call, which will deal with the context itself)\n",
        "result = lambda_handler(request_event, None)\n",
        "print(\"Status code is: \", result[\"statusCode\"])\n",
        "print(\"Result is: \", result[\"body\"])"
      ],
      "metadata": {
        "colab": {
          "base_uri": "https://localhost:8080/"
        },
        "id": "YJxEZHCcSN2L",
        "outputId": "0ba1b7d4-cf4c-4474-a03b-e9009310bc2a"
      },
      "execution_count": null,
      "outputs": [
        {
          "output_type": "stream",
          "name": "stdout",
          "text": [
            "Status code is:  200\n",
            "Result is:  8\n"
          ]
        }
      ]
    },
    {
      "cell_type": "markdown",
      "source": [
        "### Quick explanation of the headers\n",
        "---\n",
        "\n",
        "```\n",
        "'headers':{\n",
        "            'Content-Type' : 'application/json',\n",
        "            'Access-Control-Allow-Headers' : 'Content-Type,X-Api-Key',\n",
        "            'Access-Control-Allow-Methods' : 'POST',\n",
        "            'Access-Control-Allow-Origin':'*',\n",
        "        },\n",
        "```\n",
        "\n",
        "These provide the configuration that allows the data to be returned from the API gateway (or elsewhere if triggered differently.\n",
        "\n",
        "`'Content-Type' : 'application/json',` this states that the data to be returned will be in JSON format\n",
        "\n",
        "` 'Access-Control-Allow-Headers' : 'Content-Type,X-Api-Key',`\n",
        "This controls the types of headers that are allowed in the request.  In this case, the request can state the content type (in this case it would be 'application/json' as well, to specify an API key.  Other headers would cause a connection error and so can filter out some malicious attacks.\n",
        "\n",
        "`'Access-Control-Allow-Methods' : 'POST',`\n",
        "This to only allow POST requests (others including GET, PUT are not accepted)\n",
        "\n",
        "`'Access-Control-Allow-Origin':'*',`\n",
        " This will allow requests from any origin (not secure but will allow us to test without knowing the origin for now (a whitelist can be added later so that instead of '*' a list of URLs is used to control access)"
      ],
      "metadata": {
        "id": "tXk2d-KpUl0t"
      }
    },
    {
      "cell_type": "markdown",
      "source": [
        "## Good practice in creating lambda functions\n",
        "---\n",
        "\n",
        "1.  The lambda_handler function should check for as many data errors as possible to minimise the risk of crashing.  A crash could leave a database or other service exposed.  The app should always fail gracefully.  Some of this can be done with try: except: clauses which will be covered later.  \n",
        "\n",
        "2.  The lambda_handler should sit in a file on its own and should call functions from other files.  This reduces visibility of as many functions as possible in case of crashes or unauthorised access to running code.\n",
        "\n",
        "3.  All other functions should be imported into the lambda_handler ONLY if that function is called within the handler."
      ],
      "metadata": {
        "id": "9CWrJfD5Xp2y"
      }
    },
    {
      "cell_type": "markdown",
      "source": [
        "### The code should look similar to this\n",
        "\n",
        "Note:  these can't be run together in a Colab notebook because they are specifically written to work in different files.\n",
        "\n",
        "**functions.py** ( a file containing the functions that are being requested)\n",
        "\n",
        "```\n",
        "## functions.py\n",
        "\n",
        "# a set of mathematical functions\n",
        "def add_numbers(num1, num2):\n",
        "  sum = num1 + num2\n",
        "  return sum\n",
        "```\n",
        "\n",
        "**lambda_function.py** (a file containing only the *lambda_handler* function)\n",
        "\n",
        "```\n",
        "# lambda_function.py\n",
        "\n",
        "# handle the request, passing the data to other functions\n",
        "\n",
        "import json\n",
        "from functions import add_numbers\n",
        "\n",
        "def lambda_handler(event, context):\n",
        "  # event will be in the format {\"body\":{\"data\":{{\"num1\":3, \"num2\":5}}} where 3 and 5 could be any numbers.\n",
        "  # FOR SECURITY ALWAYS first check that the \"body\" key is there to prevent crashes\n",
        "  if \"body\" in event.keys():\n",
        "    request = event[\"body\"]\n",
        "    # check that there was some data in the body, get the values and run the function to get the result\n",
        "    if request is not None and \"data\" in request.keys():\n",
        "      # get the data from the data object\n",
        "      data = request[\"data\"]\n",
        "      num1 = data[\"num1\"]\n",
        "      num2 = data[\"num2\"]\n",
        "      # now the data has been collected, it can run the add_numbers(num1, num2) function setting return_data to the result, and set the statuscode to 200 (success)\n",
        "      return_data = add_numbers(num1, num2)\n",
        "      statuscode = 200\n",
        "    else:\n",
        "      return_data = \"Unable to get data\"\n",
        "      statuscode = 404\n",
        "    # now it can return the result in a JSON object with some security settings in the headers\n",
        "    return {\n",
        "        'statusCode': statuscode,\n",
        "        'headers':{\n",
        "            'Content-Type' : 'application/json',\n",
        "            'Access-Control-Allow-Headers' : 'Content-Type,X-Api-Key',\n",
        "            'Access-Control-Allow-Methods' : 'POST',\n",
        "            'Access-Control-Allow-Origin':'*'\n",
        "        },\n",
        "        'body': json.dumps(return_data)\n",
        "    }\n",
        "  ```\n",
        "\n",
        "  \n",
        "  **__init__.py**  it is a good idea to create a third file in the same folder called __init__.py.  This helps with the tracking of files as your folders get bigger and you have sub-folders.  THE FILE SHOULD BE EMPTY (although at advanced stages you may learn to add to it)\n",
        "\n",
        "  SO a folder (called python_folder) containing all the code for this lambda function should look like this:\n",
        "\n",
        "  ```\n",
        "  python_folder  \n",
        "  --> __init__.py  \n",
        "  --> functions.py  \n",
        "  --> lambda_function.py  \n",
        "  ```\n",
        "  "
      ],
      "metadata": {
        "id": "ESP5gk3UYkFn"
      }
    },
    {
      "cell_type": "markdown",
      "source": [
        "## The next stage is to try this out in AWS Lambda.\n",
        "---\n",
        "\n",
        "For this you will need an AWS account.  You will be asked for credit card details but we will NOT be using any services that will incur a charge and you will be given guidance on how to set up a budgeting system to help prevent costs being added by accident.\n",
        "\n",
        "PLEASE BE AWARE that AWS has a wide range of services, not all of them are free from cost.  If you experiment outside the services we are asking you to use, you may be charged."
      ],
      "metadata": {
        "id": "ZAfw4fJHaHnG"
      }
    }
  ]
}